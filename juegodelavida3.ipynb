{
 "cells": [
  {
   "cell_type": "markdown",
   "metadata": {},
   "source": [
    "El juego de la vida\n",
    "---------------------"
   ]
  },
  {
   "cell_type": "code",
   "execution_count": null,
   "metadata": {
    "collapsed": true
   },
   "outputs": [],
   "source": []
  },
  {
   "cell_type": "code",
   "execution_count": 2,
   "metadata": {
    "collapsed": true
   },
   "outputs": [],
   "source": [
    "import numpy as np\n",
    "import matplotlib.pyplot as plt\n",
    "import matplotlib.patches as patches"
   ]
  },
  {
   "cell_type": "code",
   "execution_count": 3,
   "metadata": {
    "collapsed": true
   },
   "outputs": [],
   "source": [
    "def exten(mat):\n",
    "    n = len(mat)\n",
    "    ex  = np.zeros((n+2,n+2))\n",
    "    ex[1:n+1,1:n+1] = mat\n",
    "    return ex "
   ]
  },
  {
   "cell_type": "code",
   "execution_count": 4,
   "metadata": {
    "collapsed": true
   },
   "outputs": [],
   "source": [
    "def sumavecinos(i,j, ex):\n",
    "    return (ex[i,j-1] + ex[i,j+1] + ex[i-1,j-1] + \n",
    "            (ex[i-1,j] + ex[i-1,j+1] + ex[i+1,j-1]) + \n",
    "            (ex[i+1,j]+ ex[i+1,j+1]))"
   ]
  },
  {
   "cell_type": "code",
   "execution_count": 5,
   "metadata": {
    "collapsed": false
   },
   "outputs": [],
   "source": [
    "def reglas(mat):\n",
    "    n = len(mat)\n",
    "    ex  = exten(mat)\n",
    "    nmat = np.zeros((n,n))\n",
    "    for i in range(1,n+1):\n",
    "        for j in range(1,n+1):\n",
    "            s = sumavecinos(i,j,ex)\n",
    "            if  s>3 or s <=1: \n",
    "                nmat[i-1,j-1] = 0\n",
    "            if s == 3 and mat[i-1,j-1]== 0: \n",
    "                nmat[i-1,j-1] = 1\n",
    "            if (s == 3 or s== 2) and mat[i-1,j-1]== 1: \n",
    "                nmat[i-1,j-1] = 1\n",
    "    return nmat  "
   ]
  },
  {
   "cell_type": "markdown",
   "metadata": {},
   "source": [
    "Algunas configuraciones iniciales. Por ejemplo, ajz es un tablero de ajedrez"
   ]
  },
  {
   "cell_type": "code",
   "execution_count": 6,
   "metadata": {
    "collapsed": false
   },
   "outputs": [],
   "source": [
    "init = np.zeros((4,4))\n",
    "init[1,1] = 1\n",
    "init[1,2] = 1\n",
    "init[2,1] = 1\n",
    " "
   ]
  },
  {
   "cell_type": "code",
   "execution_count": 20,
   "metadata": {
    "collapsed": true
   },
   "outputs": [],
   "source": [
    "ajz = np.zeros((8,8))\n",
    "for i in range(8):\n",
    "    for j in range(8):\n",
    "        ajz[i,j]=  (i+j)%2"
   ]
  },
  {
   "cell_type": "markdown",
   "metadata": {},
   "source": [
    "Evolución del juego\n",
    "--------------------\n",
    "\n",
    "La evolución del estado inicial  $n$ unidades de tiempo después está dada por el resultado de evolucion(n, init) en donde\n",
    "1. n es un numero entero\n",
    "2. init es la matriz del estado inicial"
   ]
  },
  {
   "cell_type": "code",
   "execution_count": 7,
   "metadata": {
    "collapsed": true
   },
   "outputs": [],
   "source": [
    "def evolucion(n,ini):\n",
    "    historia = []\n",
    "    historia.append(ini)\n",
    "    g = ini \n",
    "    for i in range(n):\n",
    "        g = reglas(g)\n",
    "        historia.append(g)\n",
    "    return historia"
   ]
  },
  {
   "cell_type": "markdown",
   "metadata": {},
   "source": [
    "Representación gráfica de las cuadrículas\n",
    "------------------------------------------\n",
    "\n",
    "La representación gráfica de cualquier cuadrícula (configuración) se puede hacer con la instrucción imshow de la biblioteca gráfica matplotlib. "
   ]
  },
  {
   "cell_type": "code",
   "execution_count": 22,
   "metadata": {
    "collapsed": false
   },
   "outputs": [
    {
     "data": {
      "image/png": "[encoded data removed]",
      "text/plain": [
       "<matplotlib.figure.Figure at 0x7f7f68810a90>"
      ]
     },
     "metadata": {},
     "output_type": "display_data"
    }
   ],
   "source": [
    "ev = evolucion(10, ajz)  \n",
    "plt.imshow(ev[0], cmap='binary', interpolation='nearest')\n",
    "plt.axis('off')\n",
    "plt.show()"
   ]
  },
  {
   "cell_type": "markdown",
   "metadata": {},
   "source": [
    "Si imshow no le agrada, se tiene este desarrollo adhoc para mostrar cuadríaculas en blanco y negro de una matriz $n\\times n$ de cros y unos. La funcición const_bn construye el andamio Python de los cuadros en blanco y negro. La función muestre los muestra graficamente. "
   ]
  },
  {
   "cell_type": "code",
   "execution_count": 8,
   "metadata": {
    "collapsed": true
   },
   "outputs": [],
   "source": [
    " def const_bn(mt):\n",
    "    n = len(mt)\n",
    "    dx = 1/n\n",
    "    pieces = []\n",
    "    frame = patches.Rectangle(\n",
    "        (0.0, 0.0),1, 1, fill=False, edgecolor=\"red\",linewidth=2) \n",
    "    pieces.append(frame)\n",
    "    for i in range(n):\n",
    "        for j in range(n):\n",
    "            if mt[i,j]==1:\n",
    "                p = patches.Rectangle(\n",
    "                    (i/n,j/n), dx,dx, edgecolor=\"red\", facecolor=\"black\", fill=True,linewidth=2 )\n",
    "                pieces.append(p)\n",
    "            if mt[i,j]==0:\n",
    "                p = patches.Rectangle(\n",
    "                    (i/n,j/n), dx,dx, edgecolor=\"red\", fill=False,linewidth=2)\n",
    "                pieces.append(p)\n",
    "    return pieces"
   ]
  },
  {
   "cell_type": "code",
   "execution_count": 9,
   "metadata": {
    "collapsed": true
   },
   "outputs": [],
   "source": [
    "def muestre_bn(x):\n",
    "    ax1=plt.subplot(111,aspect='equal')\n",
    "    shape = const_bn(x)\n",
    "    for p in shape: ax1.add_patch(p)\n",
    "    plt.axis('off')\n",
    "    plt.show() "
   ]
  },
  {
   "cell_type": "code",
   "execution_count": 12,
   "metadata": {
    "collapsed": false
   },
   "outputs": [
    {
     "data": {
      "image/png": "[encoded data removed]",
      "text/plain": [
       "<matplotlib.figure.Figure at 0x7f5460cfc358>"
      ]
     },
     "metadata": {},
     "output_type": "display_data"
    }
   ],
   "source": [
    "ev = evolucion(10, init) \n",
    "muestre_bn(ev[1])"
   ]
  },
  {
   "cell_type": "code",
   "execution_count": 42,
   "metadata": {
    "collapsed": false
   },
   "outputs": [
    {
     "data": {
      "image/png": "[encoded data removed]",
      "text/plain": [
       "<matplotlib.figure.Figure at 0x7f7f68207978>"
      ]
     },
     "metadata": {},
     "output_type": "display_data"
    }
   ],
   "source": [
    "muestre_bn(ajz)"
   ]
  },
  {
   "cell_type": "code",
   "execution_count": null,
   "metadata": {
    "collapsed": true
   },
   "outputs": [],
   "source": []
  }
 ],
 "metadata": {
  "kernelspec": {
   "display_name": "Python 3",
   "language": "python",
   "name": "python3"
  },
  "language_info": {
   "codemirror_mode": {
    "name": "ipython",
    "version": 3
   },
   "file_extension": ".py",
   "mimetype": "text/x-python",
   "name": "python",
   "nbconvert_exporter": "python",
   "pygments_lexer": "ipython3",
   "version": "3.5.4"
  }
 },
 "nbformat": 4,
 "nbformat_minor": 1
}
