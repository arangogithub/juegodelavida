{
 "cells": [
  {
   "cell_type": "markdown",
   "metadata": {},
   "source": [
    "El juego de la vida\n",
    "---------------------"
   ]
  },
  {
   "cell_type": "code",
   "execution_count": null,
   "metadata": {
    "collapsed": true
   },
   "outputs": [],
   "source": []
  },
  {
   "cell_type": "code",
   "execution_count": 1,
   "metadata": {
    "collapsed": true
   },
   "outputs": [],
   "source": [
    "import numpy as np\n",
    "import matplotlib.pyplot as plt\n",
    "import matplotlib.patches as patches"
   ]
  },
  {
   "cell_type": "code",
   "execution_count": 2,
   "metadata": {
    "collapsed": true
   },
   "outputs": [],
   "source": [
    "def exten(mat):\n",
    "    n = len(mat)\n",
    "    ex  = np.zeros((n+2,n+2))\n",
    "    ex[1:n+1,1:n+1] = mat\n",
    "    return ex "
   ]
  },
  {
   "cell_type": "code",
   "execution_count": 3,
   "metadata": {
    "collapsed": true
   },
   "outputs": [],
   "source": [
    "def sumavecinos(i,j, ex):\n",
    "    return (ex[i,j-1] + ex[i,j+1] + ex[i-1,j-1] + \n",
    "            (ex[i-1,j] + ex[i-1,j+1] + ex[i+1,j-1]) + \n",
    "            (ex[i+1,j]+ ex[i+1,j+1]))"
   ]
  },
  {
   "cell_type": "code",
   "execution_count": 4,
   "metadata": {
    "collapsed": false
   },
   "outputs": [],
   "source": [
    "def reglas(mat):\n",
    "    n = len(mat)\n",
    "    ex  = exten(mat)\n",
    "    nmat = np.zeros((n,n))\n",
    "    for i in range(1,n+1):\n",
    "        for j in range(1,n+1):\n",
    "            s = sumavecinos(i,j,ex)\n",
    "            if  s>3 or s <=1: \n",
    "                nmat[i-1,j-1] = 0\n",
    "            if s == 3 and mat[i-1,j-1]== 0: \n",
    "                nmat[i-1,j-1] = 1\n",
    "            if (s == 3 or s== 2) and mat[i-1,j-1]== 1: \n",
    "                nmat[i-1,j-1] = 1\n",
    "    return nmat  "
   ]
  },
  {
   "cell_type": "markdown",
   "metadata": {},
   "source": [
    "Evolución del juego\n",
    "--------------------\n",
    "\n",
    "La evolución del estado inicial  $n$ unidades de tiempo después está dada por el resultado de evolucion(n, init) en donde\n",
    "1. n es un numero entero\n",
    "2. init es la matriz del estado inicial"
   ]
  },
  {
   "cell_type": "code",
   "execution_count": 5,
   "metadata": {
    "collapsed": true
   },
   "outputs": [],
   "source": [
    "def evolucion(n,ini):\n",
    "    historia = []\n",
    "    historia.append(ini)\n",
    "    g = ini \n",
    "    for i in range(n):\n",
    "        g = reglas(g)\n",
    "        historia.append(g)\n",
    "    return historia"
   ]
  },
  {
   "cell_type": "markdown",
   "metadata": {},
   "source": [
    "Representación gráfica de las cuadrículas\n",
    "------------------------------------------\n",
    "\n",
    "La representación gráfica de cualquier cuadrícula (configuración) se puede hacer con la instrucción imshow de la biblioteca gráfica matplotlib. Si imshow no le agrada, se tiene este desarrollo adhoc para mostrar cuadríaculas en blanco y negro de una matriz $n\\times n$ de cros y unos. La funcición const_bn construye el andamio Python de los cuadros en blanco y negro. La función muestre los muestra graficamente."
   ]
  },
  {
   "cell_type": "code",
   "execution_count": 32,
   "metadata": {
    "collapsed": true
   },
   "outputs": [],
   "source": [
    " def andamio(mt):\n",
    "    n = len(mt)\n",
    "    dx = 1/n\n",
    "    pieces = []\n",
    "    frame = patches.Rectangle(\n",
    "        (0.0, 0.0),1, 1, fill=False, edgecolor=\"red\",linewidth=2) \n",
    "    pieces.append(frame)\n",
    "    for j in range(n):\n",
    "        for i in range(n):\n",
    "            if mt[i,j]==1:\n",
    "                p = patches.Rectangle(\n",
    "                    (j/n,(n-1-i)/n), dx,dx, edgecolor=\"red\", facecolor=\"black\", fill=True,linewidth=2 )\n",
    "                pieces.append(p)\n",
    "            if mt[i,j]==0:\n",
    "                p = patches.Rectangle(\n",
    "                    (j/n,(n-1-i)/n), dx,dx, edgecolor=\"red\", fill=False,linewidth=2)\n",
    "                pieces.append(p)\n",
    "    return pieces"
   ]
  },
  {
   "cell_type": "code",
   "execution_count": 33,
   "metadata": {
    "collapsed": true
   },
   "outputs": [],
   "source": [
    "def muestre(x):\n",
    "    ax1=plt.subplot(111,aspect='equal')\n",
    "    shape = andamio(x)\n",
    "    for p in shape: ax1.add_patch(p)\n",
    "    plt.axis('off')\n",
    "    plt.show() "
   ]
  },
  {
   "cell_type": "code",
   "execution_count": 34,
   "metadata": {
    "collapsed": true
   },
   "outputs": [],
   "source": [
    "def muestre2(x, y):\n",
    "    fg = plt.figure(figsize=(6,3))\n",
    "    adj = plt.subplots_adjust(hspace=0.4)\n",
    "    ##############################################\n",
    "    ax1=plt.subplot(121,aspect='equal')\n",
    "    shape = andamio(x)\n",
    "    for p in shape: ax1.add_patch(p)\n",
    "    plt.axis('off')\n",
    "    ######################################################\n",
    "    ax1=plt.subplot(122,aspect='equal')\n",
    "    shape = andamio(y)\n",
    "    for p in shape: ax1.add_patch(p)\n",
    "    plt.axis('off')\n",
    "    plt.show() "
   ]
  },
  {
   "cell_type": "code",
   "execution_count": 35,
   "metadata": {
    "collapsed": true
   },
   "outputs": [],
   "source": [
    "def muestre3(x, y, z):\n",
    "    fg = plt.figure(figsize=(9,3))\n",
    "    adj = plt.subplots_adjust(hspace=0.4)\n",
    "    ##############################################\n",
    "    ax1=plt.subplot(131,aspect='equal')\n",
    "    shape = andamio(x)\n",
    "    for p in shape: ax1.add_patch(p)\n",
    "    plt.axis('off')\n",
    "    ######################################################\n",
    "    ax2=plt.subplot(132,aspect='equal')\n",
    "    shape = andamio(y)\n",
    "    for p in shape: ax2.add_patch(p)\n",
    "    plt.axis('off')\n",
    "    ##############################################\n",
    "    ax3=plt.subplot(133,aspect='equal')\n",
    "    shape = andamio(z)\n",
    "    for p in shape: ax3.add_patch(p)\n",
    "    plt.axis('off')\n",
    "    ###########################################\n",
    "    plt.show() "
   ]
  },
  {
   "cell_type": "code",
   "execution_count": 36,
   "metadata": {
    "collapsed": true
   },
   "outputs": [],
   "source": [
    "def muestre4(w,x, y, z):\n",
    "    fg = plt.figure(figsize=(16,4))\n",
    "    adj = plt.subplots_adjust(hspace=0.4)\n",
    "    ##############################################\n",
    "    ax1=plt.subplot(141,aspect='equal')\n",
    "    shape = andamio(w)\n",
    "    for p in shape: ax1.add_patch(p)\n",
    "    plt.axis('off')\n",
    "    ######################################################\n",
    "    ax2=plt.subplot(142,aspect='equal')\n",
    "    shape = andamio(x)\n",
    "    for p in shape: ax2.add_patch(p)\n",
    "    plt.axis('off')\n",
    "    ##############################################\n",
    "    ax3=plt.subplot(143,aspect='equal')\n",
    "    shape = andamio(y)\n",
    "    for p in shape: ax3.add_patch(p)\n",
    "    plt.axis('off')\n",
    "    ###########################################\n",
    "    ax4=plt.subplot(144,aspect='equal')\n",
    "    shape = andamio(z)\n",
    "    for p in shape: ax4.add_patch(p)\n",
    "    plt.axis('off')\n",
    "    ################################################\n",
    "    plt.show() "
   ]
  },
  {
   "cell_type": "code",
   "execution_count": 91,
   "metadata": {
    "collapsed": true
   },
   "outputs": [],
   "source": [
    "init = np.zeros((20,20))\n",
    "init[8,5] = 1\n",
    "init[8,6] = 1\n",
    "init[8,7] = 1\n",
    "init[8,8] = 1\n",
    "init[8,9] = 1\n",
    "init[8,11] = 1\n",
    "init[8,12] = 1\n",
    "init[8,13] = 1\n",
    "init[8,14] = 1\n",
    "init[8,15] = 1"
   ]
  },
  {
   "cell_type": "code",
   "execution_count": 92,
   "metadata": {
    "collapsed": false
   },
   "outputs": [
    {
     "data": {
      "image/png": "[encoded data removed]",
      "text/plain": [
       "<matplotlib.figure.Figure at 0x7faf13bf92b0>"
      ]
     },
     "metadata": {},
     "output_type": "display_data"
    }
   ],
   "source": [
    "ev = evolucion(46, init) \n",
    "muestre(init)"
   ]
  },
  {
   "cell_type": "code",
   "execution_count": 93,
   "metadata": {
    "collapsed": false
   },
   "outputs": [
    {
     "data": {
      "image/png": "[encoded data removed]",
      "text/plain": [
       "<matplotlib.figure.Figure at 0x7faf1357dc18>"
      ]
     },
     "metadata": {},
     "output_type": "display_data"
    }
   ],
   "source": [
    "muestre4(ev[0], ev[1], ev[2], ev[3])"
   ]
  },
  {
   "cell_type": "code",
   "execution_count": 94,
   "metadata": {
    "collapsed": false
   },
   "outputs": [
    {
     "data": {
      "image/png": "[encoded data removed]",
      "text/plain": [
       "<matplotlib.figure.Figure at 0x7faf13d0ab38>"
      ]
     },
     "metadata": {},
     "output_type": "display_data"
    }
   ],
   "source": [
    "muestre4(ev[4], ev[5], ev[6], ev[7])"
   ]
  },
  {
   "cell_type": "code",
   "execution_count": 95,
   "metadata": {
    "collapsed": false
   },
   "outputs": [
    {
     "data": {
      "image/png": "[encoded data removed]",
      "text/plain": [
       "<matplotlib.figure.Figure at 0x7faf14ee8e10>"
      ]
     },
     "metadata": {},
     "output_type": "display_data"
    }
   ],
   "source": [
    "muestre4(ev[8], ev[9], ev[10], ev[11])"
   ]
  },
  {
   "cell_type": "code",
   "execution_count": 96,
   "metadata": {
    "collapsed": false
   },
   "outputs": [
    {
     "data": {
      "image/png": "[encoded data removed]",
      "text/plain": [
       "<matplotlib.figure.Figure at 0x7faf13a7aeb8>"
      ]
     },
     "metadata": {},
     "output_type": "display_data"
    }
   ],
   "source": [
    "muestre4(ev[12], ev[13], ev[14], ev[15])"
   ]
  },
  {
   "cell_type": "code",
   "execution_count": 97,
   "metadata": {
    "collapsed": false
   },
   "outputs": [
    {
     "data": {
      "image/png": "[encoded data removed]",
      "text/plain": [
       "<matplotlib.figure.Figure at 0x7faf13fd8da0>"
      ]
     },
     "metadata": {},
     "output_type": "display_data"
    }
   ],
   "source": [
    "muestre4(ev[16], ev[17], ev[18], ev[19])"
   ]
  },
  {
   "cell_type": "code",
   "execution_count": 98,
   "metadata": {
    "collapsed": false
   },
   "outputs": [
    {
     "data": {
      "image/png": "[encoded data removed]",
      "text/plain": [
       "<matplotlib.figure.Figure at 0x7faf137305c0>"
      ]
     },
     "metadata": {},
     "output_type": "display_data"
    }
   ],
   "source": [
    "muestre4(ev[20], ev[21], ev[22], ev[23])"
   ]
  },
  {
   "cell_type": "code",
   "execution_count": 99,
   "metadata": {
    "collapsed": false
   },
   "outputs": [
    {
     "data": {
      "image/png": "[encoded data removed]",
      "text/plain": [
       "<matplotlib.figure.Figure at 0x7faf13a15e48>"
      ]
     },
     "metadata": {},
     "output_type": "display_data"
    }
   ],
   "source": [
    "muestre4(ev[24], ev[25], ev[26], ev[27])"
   ]
  },
  {
   "cell_type": "code",
   "execution_count": 100,
   "metadata": {
    "collapsed": false
   },
   "outputs": [
    {
     "data": {
      "image/png": "[encoded data removed]",
      "text/plain": [
       "<matplotlib.figure.Figure at 0x7faf1352dd68>"
      ]
     },
     "metadata": {},
     "output_type": "display_data"
    }
   ],
   "source": [
    "muestre4(ev[28], ev[29], ev[30], ev[31])"
   ]
  },
  {
   "cell_type": "code",
   "execution_count": 101,
   "metadata": {
    "collapsed": false
   },
   "outputs": [
    {
     "data": {
      "image/png": "[encoded data removed]",
      "text/plain": [
       "<matplotlib.figure.Figure at 0x7faf135c2128>"
      ]
     },
     "metadata": {},
     "output_type": "display_data"
    }
   ],
   "source": [
    "muestre4(ev[32], ev[33], ev[34], ev[35])"
   ]
  },
  {
   "cell_type": "code",
   "execution_count": 102,
   "metadata": {
    "collapsed": false
   },
   "outputs": [
    {
     "data": {
      "image/png": "[encoded data removed]",
      "text/plain": [
       "<matplotlib.figure.Figure at 0x7faf148c6668>"
      ]
     },
     "metadata": {},
     "output_type": "display_data"
    }
   ],
   "source": [
    "muestre4(ev[36], ev[37], ev[38], ev[39])"
   ]
  },
  {
   "cell_type": "code",
   "execution_count": 103,
   "metadata": {
    "collapsed": false
   },
   "outputs": [
    {
     "data": {
      "image/png": "[encoded data removed]",
      "text/plain": [
       "<matplotlib.figure.Figure at 0x7faf134dab38>"
      ]
     },
     "metadata": {},
     "output_type": "display_data"
    }
   ],
   "source": [
    "muestre4(ev[40], ev[41], ev[42], ev[43])"
   ]
  },
  {
   "cell_type": "code",
   "execution_count": null,
   "metadata": {
    "collapsed": true
   },
   "outputs": [],
   "source": []
  }
 ],
 "metadata": {
  "kernelspec": {
   "display_name": "Python 3",
   "language": "python",
   "name": "python3"
  },
  "language_info": {
   "codemirror_mode": {
    "name": "ipython",
    "version": 3
   },
   "file_extension": ".py",
   "mimetype": "text/x-python",
   "name": "python",
   "nbconvert_exporter": "python",
   "pygments_lexer": "ipython3",
   "version": "3.5.4"
  }
 },
 "nbformat": 4,
 "nbformat_minor": 1
}
